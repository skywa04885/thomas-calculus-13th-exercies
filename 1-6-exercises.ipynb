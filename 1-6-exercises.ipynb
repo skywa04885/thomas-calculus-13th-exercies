{
 "cells": [
  {
   "cell_type": "code",
   "execution_count": 1,
   "metadata": {},
   "outputs": [],
   "source": [
    "import matplotlib.pyplot as plt\n"
   ]
  },
  {
   "cell_type": "markdown",
   "metadata": {},
   "source": [
    "1. Yes\n",
    "\n",
    "2. No\n",
    "\n",
    "3. No\n",
    "\n",
    "4. Yes\n",
    "\n",
    "5. Yes\n",
    "\n",
    "6. Yes\n",
    "\n",
    "7. No\n",
    "\n",
    "8. Yes\n",
    "\n",
    "9.  No\n",
    "\n",
    "10. Yes\n"
   ]
  },
  {
   "cell_type": "markdown",
   "metadata": {},
   "source": [
    "19. Finding the inverse.\n",
    "\n",
    "    $y = x^2 + 1, \\; x \\geq 0$\n",
    "\n",
    "    $y - 1 = x^2, \\; x \\geq 0$\n",
    "\n",
    "    $\\sqrt[2]{y - 1} = x, \\; x \\geq 0$\n",
    "\n",
    "    $\\sqrt[2]{x - 1} = f^{-1}(x)$\n",
    "\n",
    "---\n",
    "\n",
    "20. Finding the inverse.\n",
    "\n",
    "    $y = f(x) = x^2, \\; x \\leq 0$\n",
    "\n",
    "    $\\sqrt[2]{y} = x$\n",
    "\n",
    "    $\\sqrt[2]{x} = f^{-1}(x)$\n",
    "\n",
    "---\n",
    "\n",
    "25. Inverse of $f(x) = x^5$\n",
    "\n",
    "    $y = x^5$\n",
    "\n",
    "    $\\sqrt[5]{y} = x$\n",
    "\n",
    "    Now swapping the $x$ and $y$.\n",
    "\n",
    "    $y = \\sqrt[5]{x}$\n",
    "\n",
    "    $f^{-1}(x) = \\sqrt[5]{x}$\n",
    "\n",
    "    Now we define the domain and range as:\n",
    "\n",
    "    $\\{ x \\; \\epsilon \\; \\real \\; | \\; x \\geq 0 \\}$,\n",
    "    $\\{ f^{-1}(x) \\; \\epsilon \\; \\real \\; | \\; f^{-1}(x) \\geq 0 \\}$"
   ]
  },
  {
   "cell_type": "markdown",
   "metadata": {},
   "source": [
    "---\n",
    "\n",
    "27. Inverse of $f(x) = x^3 + 1$\n",
    "\n",
    "    $y = x^3 + 1$\n",
    "\n",
    "    $y - 1 = x^3$\n",
    "\n",
    "    $\\sqrt[3]{y - 1} = x$\n",
    "\n",
    "    Now swapping the $x$ and $y$.\n",
    "\n",
    "    $\\sqrt[3]{x - 1} = y = f^{-1}(x)$\n",
    "\n",
    "    $\\{ x \\; \\epsilon \\; \\real \\; | \\; x \\neq 1 \\}$,\n",
    "    $\\{ f^{-1}(x) \\; \\epsilon \\; \\real \\}$"
   ]
  },
  {
   "cell_type": "markdown",
   "metadata": {},
   "source": [
    "---\n",
    "\n",
    "28. $f(x) = (1/2) x - 7/2$\n",
    "\n",
    "    $y = (1/2) x - 7/2$\n",
    "\n",
    "    $y + 7/2 = (1/2) x$\n",
    "\n",
    "    $\\frac{y + 7/2}{1/2} = x$ Now let's perform some divison $\\frac{y}{1/2} = \\frac{y}{1} \\cdot \\frac{2}{1} = 2y$ and $\\frac{7/2}{1/2} = \\frac{7}{2} \\cdot \\frac{2}{1} = \\frac{14}{2} = 7$\n",
    "\n",
    "    $2y + 7 = x$\n",
    "\n",
    "    $y = f^{-1}(x) = 2x + 7$\n",
    "    \n",
    "    $\\{ x \\; \\epsilon \\; \\real \\}$,\n",
    "    $\\{ f^{-1}(x) \\; \\epsilon \\; \\real \\}$"
   ]
  },
  {
   "cell_type": "markdown",
   "metadata": {},
   "source": [
    "---\n",
    "\n",
    "29. $f(x) = \\frac{1}{x^2}, \\; x \\gt 0$\n",
    "\n",
    "    $y = \\frac{1}{x^2}$\n",
    "\n",
    "    $\\frac{1}{y} = x^2$\n",
    "\n",
    "    $\\frac{1}{\\sqrt{y}} = x$\n",
    "\n",
    "    $\\frac{1}{\\sqrt{x}} = f^{-1}(x) = y$\n",
    "\n",
    "    $\\{ x \\; \\epsilon \\; \\real \\; | \\; x \\gt 0 \\}$,\n",
    "    $\\{ f^{-1}(x) \\; \\epsilon \\; \\real \\; | \\; f^{-1}(x) \\gt 0 \\}$"
   ]
  },
  {
   "cell_type": "markdown",
   "metadata": {},
   "source": [
    "---\n",
    "\n",
    "30. $f(x) = y = \\frac{1}{x^3}, \\; x \\neq 0$\n",
    "\n",
    "    $\\frac{1}{y} = x^3$\n",
    "\n",
    "    $\\frac{1}{\\sqrt[3]{y}} = x$\n",
    "\n",
    "    $\\frac{1}{\\sqrt[3]{x}} = y$\n",
    "    \n",
    "    $\\frac{1}{\\sqrt[3]{x}} = f^{-1}(x)$\n",
    "\n",
    "    $\\{ x \\; \\epsilon \\; \\real \\; | \\; x \\neq 0 \\}$,\n",
    "    $\\{ f^{-1}(x) \\; \\epsilon \\; \\real \\; | \\; f^{-1}(x) \\neq 0 \\}$"
   ]
  },
  {
   "cell_type": "markdown",
   "metadata": {},
   "source": [
    "---\n",
    "\n",
    "31. $f(x) = y = \\frac{x + 3}{x - 2}$\n",
    "\n",
    "    $y = \\frac{x + 3}{x - 2}$\n",
    "\n",
    "    $y(x - 2) = x + 3$\n",
    "\n",
    "    $y(x - 2) - 3 = 3$\n",
    "    \n",
    "    $x - 2 - \\frac{3}{y} = \\frac{3}{y}$\n",
    "\n",
    "    $x = \\frac{3}{y} + \\frac{3}{y} + 2$\n",
    "\n",
    "    $x = \\frac{6}{y} + 2$\n",
    "\n",
    "    Now again, let's swap variables and make the final inverse function.\n",
    "\n",
    "    $f^{-1}(x) = \\frac{6}{x} + 2$\n",
    "\n",
    "    And once again, let's define the domain and range.\n",
    "\n",
    "    $\\{ x \\; \\epsilon \\; \\real \\; | \\; x \\neq 0 \\}$,\n",
    "    $\\{ f^{-1}(x) \\; \\epsilon \\; \\real \\; | \\; f^{-1}(x) \\neq 2 \\}$"
   ]
  },
  {
   "cell_type": "markdown",
   "metadata": {},
   "source": [
    "---\n",
    "\n",
    "32. $f(x) = y = \\frac{\\sqrt{x}}{\\sqrt{x} - 3}$\n",
    "\n",
    "    $y(\\sqrt{x} - 3) = \\sqrt{x}$\n",
    "\n",
    "    $\\sqrt{x} - 3 = \\frac{\\sqrt{x}}{y}$\n",
    "\n",
    "    $(\\sqrt{x} - 3)^2 = \\bigg(\\frac{\\sqrt{x}}{y}\\bigg)^2$\n",
    "\n",
    "    $x - 3\\sqrt{x} - 3\\sqrt{x} + 9 = \\frac{x}{y^2}$\n",
    "\n",
    "    $x - 6\\sqrt{x} + 9 = \\frac{x}{y^2}$\n",
    "\n",
    "    $- 6\\sqrt{x} = \\frac{x}{y^2} - x - 9$\n",
    "\n",
    "    I don't care further."
   ]
  },
  {
   "cell_type": "markdown",
   "metadata": {},
   "source": [
    "---\n",
    "\n",
    "33. VSCode Sucks balls! Deleted this fucking note."
   ]
  },
  {
   "cell_type": "markdown",
   "metadata": {},
   "source": [
    "---\n",
    "\n",
    "34. $f(x) = y = (2x^3 + 1)^{1/5}$\n",
    "\n",
    "    $y = \\sqrt[5]{2x^3 + 1}$\n",
    "\n",
    "    $y^5 = 2x^3 + 1$\n",
    "    \n",
    "    $y^5 - 1 = 2x^3$\n",
    "\n",
    "    $\\frac{y^5}{2} - \\frac{1}{2} = \\frac{y^5 - 1}{2} = x^3$\n",
    "\n",
    "    $\\sqrt[3]{\\frac{y^5 - 1}{2}} = x$\n",
    "\n",
    "    $\\sqrt[3]{\\frac{x^5 - 1}{2}} = y = f^{-1}(x)$\n",
    "\n",
    "    $\\{ x \\; \\epsilon \\; \\real \\}$,\n",
    "    $\\{ f^{-1}(x) \\; \\epsilon \\; \\real \\}$"
   ]
  },
  {
   "cell_type": "markdown",
   "metadata": {},
   "source": [
    "---\n",
    "\n",
    "35. $f(x) = y = \\frac{2 + b}{x - 2}, \\; b \\gt -2$ and constant.\n",
    "\n",
    "    $\\frac{y}{2 + b} = \\frac{1}{x - 2}$\n",
    "\n",
    "    $\\frac{2 + b}{y} = x - 2$\n",
    "\n",
    "    $\\frac{2 + b}{y} + 2 = x$\n",
    "\n",
    "    $\\frac{2 + b}{x} + 2 = f^{-1}(x) = y$\n",
    "\n",
    "    $\\{ x \\; \\epsilon \\; \\real \\; | \\; x \\neq 0 \\}$,\n",
    "    $\\{ f^{-1}(x) \\; \\epsilon \\; \\real \\; | \\; f^{-1}(x) \\neq 2 \\}$"
   ]
  },
  {
   "cell_type": "markdown",
   "metadata": {},
   "source": [
    "---\n",
    "\n",
    "36. $f(x) = y = x^2 - 2bx, \\; b \\gt 0, \\; x \\leq b$\n",
    "\n",
    "    Constatating that we need to factor in order to solve for x:\n",
    "\n",
    "    $(ax - b)(ax - b)$\n",
    "\n",
    "    $a^2 x^2 - 2bax + b^2$\n",
    "\n",
    "    Now Let's apply.\n",
    "\n",
    "    Since the coefficient for the first x is not visible, we can say it's one and thus $a = 1$ now let's complete the square.\n",
    "\n",
    "    $y + b^2 = x^2 - 2bx + b^2$\n",
    "\n",
    "    $y + b^2 = (x - b)^2 = (x - b)(x - b)$\n",
    "\n",
    "    $\\sqrt[2]{y + b^2} = x - b$\n",
    "\n",
    "    $\\sqrt[2]{y + b^2} + b = x$\n",
    "\n",
    "    Now swapping $x, \\; y$\n",
    "\n",
    "    $\\sqrt[2]{x + b^2} + b = y = f^{-1}(x)$\n",
    "\n",
    "    With the domain and range:\n",
    "\n",
    "    $\\{ x \\; \\epsilon \\; \\real \\; | \\; x + b^2 \\geq 0 \\}$,\n",
    "    $\\{ f^{-1}(x) \\; \\epsilon \\; \\real \\; | \\; f^{-1}(x) \\geq b \\}$"
   ]
  },
  {
   "cell_type": "markdown",
   "metadata": {},
   "source": [
    "---\n",
    "\n",
    "37. $y = mx$\n",
    "\n",
    "    $\\frac{y}{m} = x$\n",
    "\n",
    "    $\\frac{x}{m} = f^{-1}(x) = y$\n",
    "\n",
    "    I have no clue."
   ]
  },
  {
   "cell_type": "markdown",
   "metadata": {},
   "source": [
    "---\n",
    "\n",
    "38. $f(x) = mx + b, \\; m \\neq 0$ now the inverse is calculated as follows\n",
    "\n",
    "    $y = mx + b \\Rightarrow y - b = mx \\Rightarrow \\frac{y - b}{m} = x$\n",
    "\n",
    "    Which gives us the inverse as\n",
    "\n",
    "    $f^{-1}(x) = \\frac{x - b}{m}, \\; m \\neq 0$\n",
    "\n",
    "    The slope is simply $\\frac{1}{m}$ because $x$ is just shifted by the $b$\n",
    "\n",
    "    Now to find the $x$-intercept by first solving for $x$\n",
    "\n",
    "    $y = \\frac{x - b}{m}$\n",
    "\n",
    "    $ym = x - b$\n",
    "\n",
    "    $ym + b = x$\n",
    "\n",
    "    Now Let's figure out when $x = 0$\n",
    "\n",
    "    $ym + b = 0$\n",
    "    \n",
    "    $ym = -b$\n",
    "\n",
    "    $y = \\frac{-b}{m}$"
   ]
  },
  {
   "cell_type": "markdown",
   "metadata": {},
   "source": [
    "---\n",
    "\n",
    "39. $f(x) = x + 1$ with the inverse simply calculated as\n",
    "\n",
    "    $y = x + 1$\n",
    "\n",
    "    $y - 1 = x$\n",
    "\n",
    "    $f^{-1}(x) = x - 1$"
   ]
  },
  {
   "cell_type": "code",
   "execution_count": 2,
   "metadata": {},
   "outputs": [
    {
     "data": {
      "image/png": "[encoded data removed]",
      "text/plain": [
       "<Figure size 432x288 with 1 Axes>"
      ]
     },
     "metadata": {
      "needs_background": "light"
     },
     "output_type": "display_data"
    }
   ],
   "source": [
    "def f(x):\n",
    "    return x + 1\n",
    "\n",
    "def f_inv(x):\n",
    "    return x - 1\n",
    "\n",
    "Xs, Ys = [], []\n",
    "XIs, YIs = [], []\n",
    "\n",
    "for x in range(-40, 40):\n",
    "    Xs.append(x)\n",
    "    XIs.append(x)\n",
    "\n",
    "    Ys.append(f(x))\n",
    "    YIs.append(f_inv(x))\n",
    "\n",
    "plt.figure()\n",
    "\n",
    "plt.plot(Xs, Ys)\n",
    "plt.plot(XIs, YIs)\n",
    "\n",
    "plt.show()"
   ]
  },
  {
   "cell_type": "markdown",
   "metadata": {},
   "source": [
    "---\n",
    "\n",
    "41. Expressing following logs in terms of $\\ln{2}$ and $\\ln{3}$\n",
    "\n",
    "a. $\\ln{\\frac{3}{4}} = \\ln{\\frac{3}{2^2}} = \\ln{3} - \\ln{2^2} = \\ln{3} - 2 \\cdot \\ln{2}$\n",
    "\n",
    "b. $\\ln{\\frac{4}{9}} = \\ln{\\frac{2^2}{^3}} = 2 \\cdot \\ln{2} - 3 \\cdot \\ln{3}$\n",
    "\n",
    "c. $\\ln{\\frac{1}{2}} = \\ln{2^{-1}} = -\\ln{2}$\n",
    "\n",
    "d. $\\ln{\\sqrt[3]{9}} = \\ln{9^{1/3}} = \\frac{1}{3} \\ln{9} = \\frac{1}{3} \\ln{3^3} = \\frac{2}{3} \\ln{3}$\n",
    "\n",
    "e. $\\ln{3 \\sqrt{2}} = \\ln{3} + \\ln{\\sqrt{2}} = \\ln{3} + \\ln{2^{1/2}} = \\ln{3} + \\frac{1}{2} \\ln{2}$\n",
    "\n",
    "f. $\\ln{13.5} = \\ln{(3 \\cdot 4 + \\frac{3}{2})} = \\ln{\\frac{27}{2}} = \\ln{27} - \\ln{2} = \\ln{3^3} - \\ln{2} = 3\\ln{3} - \\ln{2}$"
   ]
  },
  {
   "cell_type": "markdown",
   "metadata": {},
   "source": [
    "---\n",
    "\n",
    "42. Express the following logarithms in terms of ln 5 and ln 7.\n",
    "\n",
    "a. $\\ln{\\frac{1}{125}} = \\ln{5^0} - \\ln{5^3} = 0\\ln{5} - 3\\ln{5} = 3\\ln{5}$\n",
    "\n",
    "b. $\\ln{9.8} = \\ln{\\frac{49}{5}} = 2\\ln{7} - \\ln{5}$\n",
    "\n",
    "c. $\\ln{7\\sqrt{7}} = \\ln{7} * \\ln{\\sqrt{7}} = \\ln{7} - \\ln{7^{1/2}} = \\ln{7} - \\frac{1}{2} \\ln{7}$\n",
    "\n",
    "d. $\\ln{1225} = \\ln{25 \\cdot 49} = 5\\ln{5} + 7\\ln{7}$\n",
    "\n",
    "e. $\\ln{0.056} = \\ln{\\frac{28}{500}} = \\ln{4 \\cdot 7} - \\ln{4 \\cdot 5^3} = \\ln{4 \\cdot 7} - \\ln{4} - 3\\ln{5} = \\ln{\\frac{28}{4}} - 3\\ln{5} = \\ln{7} - 3\\ln{5}$\n",
    "\n",
    "f. $\\frac{\\ln{35} + \\ln{1/7}}{\\ln{25}} = \\frac{\\ln{35} - \\ln{7}} {2\\ln{5}} = \\frac{\\ln{35/7}} {2\\ln{5}} = \\frac{\\ln{5}} {2\\ln{5}} = \\frac{1}{2}$"
   ]
  },
  {
   "cell_type": "markdown",
   "metadata": {},
   "source": [
    "---\n",
    "\n",
    "43.\n",
    "\n",
    "a. $\\ln{\\sin{\\theta}} - \\ln{\\big( \\frac{\\sin{\\theta}}{5} \\big)} = \\ln{\\bigg <\\frac{\\sin{\\theta}} {\\big( \\frac{\\sin{\\theta}}{5} \\big)} \\bigg>} = \\ln{\\big (\\frac{\\sin{\\theta}}{1} \\cdot \\frac{5}{\\sin{\\theta}} \\big)} = \\ln{5}$\n",
    "\n",
    "b. $\\ln{(3x^2 - 9x)} + \\ln{\\frac{1}{3x}} = \\ln{\\{(3x^2 - 9x)(\\frac{1}{3x})\\}} = \\ln{(x - 3)}$\n",
    "\n",
    "c. $\\frac{1}{2} \\ln{(4t^4)} - \\ln{b} = \\ln{\\{(4t^4)^{1/2}\\}} - \\ln{b} = \\ln{(4t^2)} - \\ln{b} = \\ln{ \\big ( \\frac{4t^2} {b} \\big ) }$"
   ]
  },
  {
   "cell_type": "markdown",
   "metadata": {},
   "source": [
    "---\n",
    "\n",
    "44.\n",
    "\n",
    "a. $\\ln{ \\sec{\\theta} } + \\ln{ \\cos{\\theta} } = \\ln{ \\sec{\\theta} \\cdot \\cos{\\theta} } = \\ln{ 1 }$\n",
    "\n",
    "b. $\\ln{(8x + 4)} -2 \\ln{c} = \\ln{(8x + 4)} - \\ln{c^2} = \\ln{ \\big( \\frac{8x + 4} {c^2} \\big) }$\n",
    "\n",
    "c. $3 \\ln{ \\sqrt[3]{ t^2 - 1 } } - \\ln{(t + 1)} = \\ln {( t^2 - 1 )} - \\ln{(t + 1)} = \\ln{ \\big ( \\frac{t^2 - 1} { t + 1} \\big ) }$"
   ]
  },
  {
   "cell_type": "markdown",
   "metadata": {},
   "source": [
    "---\n",
    "\n",
    "45. \n",
    "\n",
    "a. $e^{\\ln{7.5}} = 7.5$\n",
    "\n",
    "b. $e^{-\\ln{x^2}} = \\big( \\frac{1} {e} \\big)^{\\ln {x^2}} = \\frac{1^{\\ln{x^2}}} {e^{\\ln {x^2}}} = \\frac{1}{x^2} = x^{-2}$\n",
    "\n",
    "c. $e^{\\ln{x} - \\ln{y}} = e^{\\ln{\\frac{x} {y}}} = \\frac {x} {y}$"
   ]
  },
  {
   "cell_type": "markdown",
   "metadata": {},
   "source": [
    "---\n",
    "\n",
    "46.\n",
    "\n",
    "a. $e^{\\ln{(x^2 + y^2)}} = x^2 + y^2$\n",
    "\n",
    "b. $e^{-\\ln{0.3}} = \\big( \\frac{1} {e} \\big)^{\\ln{0.3}} = \\frac{1} {0.3} = \\frac{1} {3/10} = \\frac{1} {1} \\cdot \\frac{10} {3} = \\frac{10} {3}$\n",
    "\n",
    "c. $e^{\\ln{\\pi x} - \\ln{2}} = e^{\\ln{(\\pi x / 2)}} = \\frac{\\pi x} {2}$"
   ]
  },
  {
   "cell_type": "markdown",
   "metadata": {},
   "source": [
    "---\n",
    "\n",
    "47.\n",
    "\n",
    "a. $2\\ln{\\sqrt{e}} = 2\\ln{e^{1/2}} = \\ln{e} = 1$\n",
    "\n",
    "b. $\\ln{(\\ln{e^e})} = \\ln{(e)} = 1$\n",
    "\n",
    "c. $\\ln{e^{-x^2 -y^2}} = (-x^2 -y^2) \\cdot \\ln{e} = -x^2 -y^2$"
   ]
  },
  {
   "cell_type": "markdown",
   "metadata": {},
   "source": [
    "---\n",
    "\n",
    "48.\n",
    "\n",
    "a. $\\ln {( e^{ \\sec { \\theta } } )} = \\sec { \\theta } \\cdot \\ln { e } = \\sec { \\theta }$\n",
    "\n",
    "b. $\\ln {( e^{(e^x)} )} = e^x$\n",
    "\n",
    "c. $\\ln {( e^{2 \\ln {x} } }) = e^{2 \\ln {x}} \\cdot \\ln {e} = (e^{\\ln {x}})^2 = x^2$"
   ]
  },
  {
   "cell_type": "markdown",
   "metadata": {},
   "source": [
    "---\n",
    "\n",
    "49. $\\ln {y} = 2t + 4 \\Rightarrow e^{\\ln {y}} = e^{2t + 4} \\Rightarrow y = e^{2t + 4} = e^{2t}e^4$"
   ]
  },
  {
   "cell_type": "markdown",
   "metadata": {},
   "source": [
    "---\n",
    "\n",
    "50. $\\ln {y} = -t + 5 \\Rightarrow e^{\\ln {y}} = e^{-t + 5}$"
   ]
  },
  {
   "cell_type": "markdown",
   "metadata": {},
   "source": [
    "---\n",
    "\n",
    "51. $\\ln {y - b} = 5t \\Rightarrow e^{\\ln {( y - b )}} = e^{5t} \\Rightarrow y - b = 5t \\Rightarrow y = 5t + b$"
   ]
  },
  {
   "cell_type": "markdown",
   "metadata": {},
   "source": [
    "---\n",
    "\n",
    "52. $\\ln {( c - 2y )} = t \\Rightarrow e^{ \\ln {( c - 2y )} } = e^t \\Rightarrow c - 2y = e^t \\Rightarrow -2y = e^t -c \\Rightarrow y = -\\frac{e^t - c} {2}$"
   ]
  },
  {
   "cell_type": "markdown",
   "metadata": {},
   "source": [
    "---\n",
    "\n",
    "53. $\\ln {(y - 1)} - \\ln { 2 } = x + \\ln { x }$\n",
    "\n",
    "    $\\ln {(y - 1)} = x + \\ln { x } + \\ln { 2 }$\n",
    "\n",
    "    $\\ln {(y - 1)} = x + \\ln { 2x }$\n",
    "\n",
    "    $e^{( \\ln {(y - 1)} )} = e^{( x + \\ln { 2x } )}$\n",
    "\n",
    "    $y - 1 = e^{ x } e^{ \\ln { 2x } } = 2x \\cdot e^{ x }$\n",
    "\n",
    "    $y = 2x \\cdot e^{ x } + 1$"
   ]
  },
  {
   "cell_type": "markdown",
   "metadata": {},
   "source": [
    "---\n",
    "\n",
    "54. $\\ln {( y^2 - 1 )} - \\ln {( y + 1 )} = \\ln { \\sin { x } }$\n",
    "    \n",
    "    $e^{ \\ln { \\big( \\frac { y^2 - 1 } { y + 1 } \\big )} } = e^{ \\ln {( \\sin { x } )} }$\n",
    "\n",
    "    $\\frac { y^2 - 1 } { y + 1 } = \\sin { x } $\n",
    "\n",
    "    $\\sin^{-1}{ \\bigg( \\frac { y^2 - 1 } { y + 1 } \\bigg) } = x$"
   ]
  },
  {
   "cell_type": "markdown",
   "metadata": {},
   "source": [
    "---\n",
    "\n",
    "55. **a:**\n",
    "\n",
    "    $e^{ 2k } = 4$\n",
    "\n",
    "    $\\ln {( e^{2k} )} = \\ln { 4 }$\n",
    "\n",
    "    $2k \\cdot \\ln { e } = \\ln { 4 }$\n",
    "\n",
    "    $2k = \\ln { 4 }$\n",
    "\n",
    "    $k = \\frac {1} {2} \\cdot \\ln {4}$\n",
    "    \n",
    "    $k = \\ln { 4^{ 1/2 } }$\n",
    "\n",
    "    $k = \\ln { \\sqrt[2] {4} }$\n",
    "    \n",
    "    $k = \\ln { 2 }$\n",
    "\n",
    "    **b:**\n",
    "\n",
    "    $100e^{10k} = 200$\n",
    "\n",
    "    $e^{ 10k } = 2$\n",
    "\n",
    "    $\\ln {( e^{ 10k } )} = \\ln { 2 }$\n",
    "\n",
    "    $10k = \\ln {2}$\n",
    "\n",
    "    $k = \\frac { \\ln{2} } {10}$"
   ]
  },
  {
   "cell_type": "markdown",
   "metadata": {},
   "source": [
    "---\n",
    "\n",
    "56. **a:**\n",
    "    \n",
    "    $e^{ 5k } = \\frac {1} {4}$\n",
    "\n",
    "    $\\ln {( e^{ 5k } )} = \\ln { \\frac {1} {4} }$\n",
    "\n",
    "    $5k = \\ln { \\frac {1} {4} }$\n",
    "\n",
    "    $k = \\frac {1} {5} \\ln { \\frac {1} {4} }$\n",
    "\n",
    "    $k = \\ln { \\sqrt { \\frac {1} {4} } }$"
   ]
  },
  {
   "cell_type": "markdown",
   "metadata": {},
   "source": [
    "---\n",
    "\n",
    "61. **a:** $5^{ \\log_5{ 7 } } = 7$\n",
    "\n",
    "    **b:** $8^{ \\log_8 { \\sqrt {2} } } = \\sqrt {2}$\n",
    "\n",
    "    **c:** $1.3^{ \\log_{ 1.3 } { 75 } } = 75$\n",
    "\n",
    "    **d:** $\\log_4 {16} = 2$\n",
    "\n",
    "    **e:** $\\log_3 { \\sqrt{3} } = \\log_3 { 3^{1/2} } = \\frac { 1 } { 2 } \\log_3 {3} = \\frac { 1 } { 2 }$\n",
    "\n",
    "    **f:** $\\log_4 { \\frac { 1 } { 4 } } = \\log_4 { 1 } - \\log_4{ 4 } = 0 - 1 = -1$ "
   ]
  },
  {
   "cell_type": "markdown",
   "metadata": {},
   "source": [
    "---\n",
    "\n",
    "62. **a:** $2^{ \\log_2{ 3 } } = 3$\n",
    "\n",
    "    **b:** $10^{ \\log_{10} { 1/2 } } = 1/2$\n",
    "\n",
    "    **c:** $\\pi^{ \\log_{ \\pi } {7} } = 7$\n",
    "\n",
    "    **d:** $\\log_{ 11 } { 121 } = 2$\n",
    "\n",
    "    **e:** $\\log_{ 121 } { 11 } = \\frac { 1 } { 2 }$\n",
    "\n",
    "    **f:** $\\log_{ 3 } { \\frac { 1 } { 9 } } = \\log_{ 3 } { 1 } - \\log_{ 3 } { 9 } = -2$"
   ]
  },
  {
   "cell_type": "markdown",
   "metadata": {},
   "source": [
    "---\n",
    "\n",
    "63. **a**: $2^{\\log_{4}{x}} = \\big( 4^{\\log_{4}{x}} \\big )^{1/2} = x^{1/2} = \\sqrt{x}$\n"
   ]
  },
  {
   "cell_type": "markdown",
   "metadata": {},
   "source": []
  }
 ],
 "metadata": {
  "interpreter": {
   "hash": "b0fa6594d8f4cbf19f97940f81e996739fb7646882a419484c72d19e05852a7e"
  },
  "kernelspec": {
   "display_name": "Python 3.9.8 64-bit",
   "language": "python",
   "name": "python3"
  },
  "language_info": {
   "codemirror_mode": {
    "name": "ipython",
    "version": 3
   },
   "file_extension": ".py",
   "mimetype": "text/x-python",
   "name": "python",
   "nbconvert_exporter": "python",
   "pygments_lexer": "ipython3",
   "version": "3.9.8"
  },
  "orig_nbformat": 4
 },
 "nbformat": 4,
 "nbformat_minor": 2
}
