{
 "cells": [
  {
   "cell_type": "markdown",
   "metadata": {},
   "source": [
    "Prove the limit $\\lim_{x \\to 4} (9 - x) = 5$\n",
    "\n",
    "Where we will define the following: $L = 5,\\ c = 4,\\ f(x) = 9 - x$\n",
    "\n",
    "We want to prove this by showing that when we give a specific output-error tolerance $\\epsilon \\gt 0$ we can find an $\\delta$ which will keep the result inside the tolerated error. This proves that if we bring $\\delta$ super close to $c$ than $\\epsilon$ will get super close to $L$.\n",
    "\n",
    "Let's sum these requirements up as:\n",
    "\n",
    "$\\epsilon \\gt 0$\n",
    "\n",
    "$0 \\lt |x - c| \\lt \\delta$ We don't want $|x - c|$ to be zero, because we're interested in what it approaches, instead of what it actually is evaluated at that point.\n",
    "\n",
    "$|f(x) - L| \\lt \\epsilon$\n",
    "\n",
    "Now let's substitute.\n",
    "\n",
    "$0 \\lt |x - 4| \\lt \\delta$\n",
    "\n",
    "$|(9 - x) - 5| \\lt \\epsilon$"
   ]
  },
  {
   "cell_type": "markdown",
   "metadata": {},
   "source": [
    "First we will find the open interval in which $x$ has to be, to be within a specific error tolerance $\\epsilon$ We will do this by solving for $x$ in the inequality.\n",
    "\n",
    "$|(9 - x) - 5| \\lt \\epsilon$\n",
    "\n",
    "$|4 - x| \\lt \\epsilon$\n",
    "\n",
    "$-\\epsilon \\lt 4 - x \\lt \\epsilon$\n",
    "\n",
    "$-\\epsilon - 4 \\lt - x \\lt \\epsilon - 4$\n",
    "\n",
    "$\\epsilon + 4 \\gt x \\gt 4 - \\epsilon$\n",
    "\n",
    "$4 - \\epsilon \\lt x \\lt \\epsilon + 4$\n",
    "\n",
    "Now we know that to keep $|f(x) - L| \\lt \\epsilon$ we need to keep $x$ in the open interval $(4 - \\epsilon, \\epsilon + 4)$\n",
    "\n",
    "In this case we will define delta as the smalles value of both distances from $c$ which we can set as $x = c = 4$ to the nearer endpoint of the open interval for the $x$'s.\n",
    "\n",
    "$\\delta = \\min{\\{4 - (4 - \\epsilon), (\\epsilon + 4) - 4\\}} = \\min{\\{\\epsilon, \\epsilon \\}} = \\epsilon$"
   ]
  },
  {
   "cell_type": "markdown",
   "metadata": {},
   "source": []
  }
 ],
 "metadata": {
  "language_info": {
   "name": "python"
  },
  "orig_nbformat": 4
 },
 "nbformat": 4,
 "nbformat_minor": 2
}
