{
 "cells": [
  {
   "cell_type": "markdown",
   "metadata": {},
   "source": [
    "After some new insights about Inverse Kinematics, I want to try and solve it like it was a system of equations."
   ]
  },
  {
   "cell_type": "markdown",
   "metadata": {},
   "source": [
    "Let's define some variables bellow:\n",
    "\n",
    "1. $\\theta_{0...2}$ Angle 0 to 2\n",
    "1. $\\vec{v}_{target}$, $\\vec{v}_{current}$ Target, Current Vector (3D Position)\n",
    "1. $o_{target}$, $o_{current}$ Target, Current End-Effector Orientation (Quaternion)"
   ]
  },
  {
   "cell_type": "markdown",
   "metadata": {},
   "source": [
    "And Let's define the problem as:\n",
    "\n"
   ]
  },
  {
   "cell_type": "markdown",
   "metadata": {},
   "source": []
  }
 ],
 "metadata": {
  "language_info": {
   "name": "python"
  },
  "orig_nbformat": 4
 },
 "nbformat": 4,
 "nbformat_minor": 2
}
