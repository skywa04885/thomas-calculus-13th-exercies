{
 "cells": [
  {
   "cell_type": "code",
   "execution_count": 51,
   "metadata": {},
   "outputs": [],
   "source": [
    "import math\n",
    "import matplotlib.pyplot as plt"
   ]
  },
  {
   "cell_type": "markdown",
   "metadata": {},
   "source": [
    "Calculating $e$, eulers constant\n",
    "\n",
    "$e = \\sum_{n=1}^{\\infty} \\; (\\frac{1}{n!})$"
   ]
  },
  {
   "cell_type": "code",
   "execution_count": 52,
   "metadata": {},
   "outputs": [
    {
     "data": {
      "text/plain": [
       "2.7182818284590455"
      ]
     },
     "execution_count": 52,
     "metadata": {},
     "output_type": "execute_result"
    }
   ],
   "source": [
    "def factorial(n: int) -> int:\n",
    "    sum: int = 1\n",
    "    for i in range(1, n + 1):\n",
    "        sum *= i\n",
    "    return sum\n",
    "\n",
    "def e(precision: int) -> float:\n",
    "    sum: float = 1\n",
    "    for n in range(1, precision + 1):\n",
    "        sum += 1 / factorial(n)\n",
    "    return sum\n",
    "\n",
    "e(20)"
   ]
  },
  {
   "cell_type": "markdown",
   "metadata": {},
   "source": [
    "$v = p * e^{rt}$ where $v$ is the final amount of money, $e$ is eulers constant, $r$ is the rate of interest and $t$ is the time.\n",
    " \n",
    "We can manipulate this formula algebraically to solve for $t$: \n",
    "\n",
    "$\\frac{v}{p} = e^{rt}$\n",
    " \n",
    "$\\ln (\\frac{v}{p}) = \\ln(e^{rt})$\n",
    " \n",
    "$\\ln (\\frac{v}{p}) = rt * \\ln(e)$\n",
    "Since $\\ln(e)$ equals $e^x = e$ and when $x = 1$ they are equal, we can simplify $\\ln(e)$ to $1$\n",
    " \n",
    "$\\ln (\\frac{v}{p}) = rt * 1 = rt$\n",
    " \n",
    "$\\frac{ln (\\frac{v}{p})}{r} = t$"
   ]
  },
  {
   "cell_type": "code",
   "execution_count": 53,
   "metadata": {},
   "outputs": [],
   "source": [
    "# Calculates when we're going to be rich.\n",
    "def when_rich(r: float, v: float, p: float) -> float:\n",
    "    numerator: float = math.log((v / p), math.e)\n",
    "    return numerator / r\n"
   ]
  },
  {
   "cell_type": "code",
   "execution_count": 54,
   "metadata": {},
   "outputs": [
    {
     "data": {
      "text/plain": [
       "184.20680743952366"
      ]
     },
     "execution_count": 54,
     "metadata": {},
     "output_type": "execute_result"
    }
   ],
   "source": [
    "when_rich(0.05, 100000, 10)"
   ]
  },
  {
   "cell_type": "markdown",
   "metadata": {},
   "source": [
    "11. $16^2 \\cdot 16^{-1.75} = 16^{2 - 1.75} = 16^{0.25} = 16^{\\frac{1}{4}} = \\sqrt[4]{16} = 2$\n",
    "---\n",
    "12. $9^{1/3} \\dot 9^{1/6} = 9^{1/3 + 1/6} = 9^{2/6 + 1/6} = 9^{3/6} = 9^{1/2} = \\sqrt[2]{9} = 3$\n",
    "---\n",
    "13. $\\frac{4^{4.2}}{4^{3.7}} = 4^{4.2 - 3.7} = 4^{0.5} = 4^{\\frac{1}{2}} = \\sqrt[2]{4} = 2$\n",
    "---\n",
    "14. $\\frac{3^{5/3}}{3^{2/3}} = 3^{5/3 - 2/3} = 3^{3/3} = 3^1 = 3$\n",
    "---\n",
    "15. $(25^{1/8})^4 = 25^{4/8} = 25^{1/2} = \\sqrt[2]{25} = 5$\n",
    "---\n",
    "16. $\\big (13^{\\sqrt{2}} \\big)^{\\sqrt{2}/2} = 13^{\\sqrt{2} \\cdot \\sqrt{2}/2} = 13^{2/2} = 13^{1} = 13$\n",
    "---\n",
    "17. $2^{\\sqrt{3}} \\cdot 7^{\\sqrt{3}} = \\big( 2 \\cdot 7 \\big)^{\\sqrt{3}} = 14^{\\sqrt{3}}$\n",
    "---\n",
    "18. $\\big( \\sqrt{3} \\big)^{1/2} \\cdot \\big( \\sqrt{12} \\big)^{1/2} = \\big( \\sqrt{3} \\cdot \\sqrt{12} \\big)^{1/2} = 6^{1/2} = \\sqrt{6}$\n",
    "\n",
    "    $\\sqrt{3} \\cdot \\sqrt{12} = \\sqrt{3 \\cdot 12} = \\sqrt{36} = 6$\n",
    "---\n",
    "19. $ \\big( \\frac{2}{\\sqrt{2}} \\big)^4 = \\big( \\frac{2^4}{(\\sqrt{2})^4} \\big) = \\frac{16}{4} = 4$\n",
    "\n",
    "    $2^4 = 16, \\sqrt{2}^4 = 2 * 2 = 4$\n",
    "---\n",
    "20. $ \\big( \\frac{\\sqrt{6}}{3} \\big)^2 = \\frac{6}{9} = \\frac{2}{3} $\n",
    "---"
   ]
  },
  {
   "cell_type": "markdown",
   "metadata": {},
   "source": [
    "21. $f(x) = \\frac{1}{2 + e^x}$\n",
    "\n",
    "    $Domain: \\{x \\; \\epsilon \\; \\real \\}, \\; Range: \\{f(x) \\; \\epsilon \\; \\real \\; | \\; f(x) \\; \\gt \\; 0 \\}$\n",
    "---\n",
    "22. $g(t) = cos(e^{-t})$\n",
    "    \n",
    "    $Domain: \\{x \\; \\epsilon \\; \\real \\}, \\; Range: \\{g(x) \\; \\epsilon \\; \\real \\; | \\; -1 \\; \\leq \\; g(x) \\; \\leq \\; 1 \\}$\n",
    "---\n",
    "23. $g(t) = \\sqrt{1 + 3^{-t}}$\n",
    "\n",
    "    $Domain: \\{t \\; \\epsilon \\; \\real \\}, \\; Range: \\{g(t) \\; \\epsilon \\; \\real \\; | \\; g(t) \\; \\gt \\; 1 \\}$\n",
    "---\n",
    "24. $f(x) = \\frac{3}{1 - e^{2x}}$\n",
    "\n",
    "    $Domain: \\{x \\; \\epsilon \\; \\real \\}, \\; Range: \\{g(x) \\; \\epsilon \\; \\real \\; | \\; g(x) \\; \\lt \\; 3 \\}$\n",
    "---"
   ]
  },
  {
   "cell_type": "markdown",
   "metadata": {},
   "source": [
    "25.\n",
    "    $2^x = 5$\n",
    "\n",
    "    $\\log_2(2^x) = \\log_2(5)$\n",
    "\n",
    "    $x \\cdot \\log_2(2) = \\log_2(5)$\n",
    "\n",
    "    $x = \\log_2(5) = \\log_2(2 \\cdot 2.5) = \\log_2(2) + \\log_2(2.5) = 1 + \\log_2(2.5)$\n",
    "---"
   ]
  },
  {
   "cell_type": "markdown",
   "metadata": {},
   "source": [
    "29. $p_b = 500,000, \\; p_d = 1,000,000$ where $p_b$ is the population in the beginning, and $p_d$ is the population we will reach. The population grows by $3.75\\%$ each year, which we will indicate by $r = 0.0375$.\n",
    "\n",
    "    $p_d = p_b \\cdot e^{rt}$\n",
    "\n",
    "    Now we want to solve this equation for t, which represents the number of years until we reach the population.\n",
    "\n",
    "    $\\frac{p_d}{p_b} = e^{rt}$\n",
    "\n",
    "    $\\ln{(\\frac{p_d}{p_b})} = \\ln{(e^{rt})} = rt \\cdot \\ln{(e)} = rt$\n",
    "\n",
    "    $\\frac{\\ln{(\\frac{p_d}{p_b})}}{r} = t$"
   ]
  },
  {
   "cell_type": "code",
   "execution_count": 55,
   "metadata": {},
   "outputs": [
    {
     "name": "stdout",
     "output_type": "stream",
     "text": [
      "18.483924814931875\n"
     ]
    }
   ],
   "source": [
    "def assignment_29() -> None:\n",
    "    p_b, p_d, r = 500_000, 1_000_000, 0.0375\n",
    "    t = math.log(p_d / p_b, math.e) / r\n",
    "    print(t)\n",
    "\n",
    "assignment_29()"
   ]
  },
  {
   "cell_type": "markdown",
   "metadata": {},
   "source": [
    "31. $f_i$ is the initial amount of phosphorus-32, and $f_t$ is the amount of phosphorus-32 at time $t$. Initially there will be $6.6g$ present, which we will be put in $f_i = 6.6$. We will indicate the rate of decay by $r$ however this is unknown! We need to solve for it first. For this we will solve the exponential growth equation for $r$.\n",
    "\n",
    "$f_t = f_i \\cdot e^{rt}$\n",
    "\n",
    "$\\frac{f_t}{f_i} = e^{rt}$\n",
    "\n",
    "$\\ln{(\\frac{f_t}{f_i})} = \\ln{(e^{rt})}$\n",
    "\n",
    "$\\ln{(\\frac{f_t}{f_i})} = rt \\cdot \\ln{e} = rt$\n",
    "\n",
    "$\\frac{\\ln{(\\frac{f_t}{f_i})}}{t} = r$\n",
    "\n",
    "Now we have this, let's calculate $r$ with the given values: $f_t = 3.3, \\; f_i = 6.6, \\; t = 14$\n",
    "\n",
    "r = $\\frac{\\ln{(\\frac{3.3}{6.6})}}{14}$\n",
    "\n",
    "Let's evaluate this bellow:"
   ]
  },
  {
   "cell_type": "code",
   "execution_count": 56,
   "metadata": {},
   "outputs": [
    {
     "data": {
      "text/plain": [
       "-0.049510512897138946"
      ]
     },
     "execution_count": 56,
     "metadata": {},
     "output_type": "execute_result"
    }
   ],
   "source": [
    "math.log(3.3 / 6.6, math.e) / 14"
   ]
  },
  {
   "cell_type": "markdown",
   "metadata": {},
   "source": [
    "Now we know that $r \\approx -0.04951$, so now we can express the amount of phosphorus-32 as: $f(t) = 6.6 \\cdot e^{-0.04951t}$\n",
    "\n",
    "With all of this information, and the previously derived equation (slightly modified) $\\frac{\\ln{(\\frac{f_t}{f_i})}}{r} = t$ we can figure out how long it will take to reach 1g.\n",
    "\n",
    "$\\frac{\\ln{(\\frac{1}{6.6})}}{-0.04951} = t$"
   ]
  },
  {
   "cell_type": "code",
   "execution_count": 57,
   "metadata": {},
   "outputs": [
    {
     "data": {
      "text/plain": [
       "38.114919188696824"
      ]
     },
     "execution_count": 57,
     "metadata": {},
     "output_type": "execute_result"
    }
   ],
   "source": [
    "math.log(1/6.6, math.e) / -0.04951"
   ]
  },
  {
   "cell_type": "markdown",
   "metadata": {},
   "source": [
    "Now we have $t$, which tells us that it will take $\\approx 38.11492$ days to reach 1g of phosphorus.\n",
    "\n",
    "---\n",
    "\n",
    "33. We want to know how much time it would take for an investment to double when the interest rate is $6.25\\%$. We define $v$ as the value we want to double, $w = 2v$ and $r = 0.0625$\n",
    "\n",
    "$\\frac{\\ln{(\\frac{w}{v})}}{6.25} = \\frac{\\ln{(\\frac{2v}{v})}}{6.25} = \\frac{\\ln{2}}{6.25} = t$"
   ]
  },
  {
   "cell_type": "code",
   "execution_count": 59,
   "metadata": {},
   "outputs": [
    {
     "data": {
      "text/plain": [
       "11.090354888959125"
      ]
     },
     "execution_count": 59,
     "metadata": {},
     "output_type": "execute_result"
    }
   ],
   "source": [
    "math.log(2, math.e) / 0.0625"
   ]
  },
  {
   "cell_type": "markdown",
   "metadata": {},
   "source": [
    "We now determined that it would take $\\approx 11$ years to double, no matter what the original value is.\n"
   ]
  },
  {
   "cell_type": "markdown",
   "metadata": {},
   "source": []
  },
  {
   "cell_type": "code",
   "execution_count": null,
   "metadata": {},
   "outputs": [],
   "source": []
  }
 ],
 "metadata": {
  "interpreter": {
   "hash": "b0fa6594d8f4cbf19f97940f81e996739fb7646882a419484c72d19e05852a7e"
  },
  "kernelspec": {
   "display_name": "Python 3.9.7 64-bit",
   "language": "python",
   "name": "python3"
  },
  "language_info": {
   "codemirror_mode": {
    "name": "ipython",
    "version": 3
   },
   "file_extension": ".py",
   "mimetype": "text/x-python",
   "name": "python",
   "nbconvert_exporter": "python",
   "pygments_lexer": "ipython3",
   "version": "3.9.7"
  },
  "orig_nbformat": 4
 },
 "nbformat": 4,
 "nbformat_minor": 2
}
