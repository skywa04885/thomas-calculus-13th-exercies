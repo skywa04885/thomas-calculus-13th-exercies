{
 "cells": [
  {
   "cell_type": "markdown",
   "metadata": {},
   "source": [
    "Let's define some things before I try to explain to myself what the epsilon delta defintion actually is.\n",
    "\n",
    "$f(x) = 4x + 4, c = 2$\n",
    "\n",
    "$L = \\lim_{x \\to c} f(x) = \\lim_{x \\to 2} (4x + 4) = 4(2) + 4 = 8 + 4 = 12$\n",
    "\n",
    "Now in order to prove the limit exists, we want to prove that when bringing $x$ closer and closer to $c$ the output will get closer and closer to $L$ but not exactly, but most likely with a specific proportion. Which give us the following inequalities.\n",
    "\n",
    "$0 \\lt |x - c| \\lt \\delta$\n",
    "\n",
    "$|f(x) - L| \\lt \\epsilon$\n",
    "\n",
    "In this case we never want $\\delta$ to be $0$ because when dealing with limits, we want to know what the value is approaching, but not exactly is evualuated at that point, unless the function is continious ofcourse."
   ]
  },
  {
   "cell_type": "markdown",
   "metadata": {},
   "source": []
  }
 ],
 "metadata": {
  "language_info": {
   "name": "python"
  },
  "orig_nbformat": 4
 },
 "nbformat": 4,
 "nbformat_minor": 2
}
