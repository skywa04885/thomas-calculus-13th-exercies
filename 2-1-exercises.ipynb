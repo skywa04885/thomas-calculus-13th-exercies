{
 "cells": [
  {
   "cell_type": "markdown",
   "metadata": {},
   "source": [
    "1. $f(x) = x^3 + 1$\n",
    "\n",
    "    **a.** $[2,3]$\n",
    "\n",
    "    $h = 3 - 2 = 1,\\ f(2) = 2^3 + 1 = 8 + 1 = 9, \\ f(3) = 3^3 + 1 = 27 + 1 = 28$\n",
    "\n",
    "    $\\frac{f(3) - f(2)}{h} = \\frac{28 - 9}{1} = 19$\n",
    "\n",
    "    **b.** $[-1, 1]$\n",
    "\n",
    "    $h = 1 - - 1 = 1 + 1 = 2, f(-1) = (-1)^3 + 1 = -1 + 1 = 0, f(1) = 1 + 1 = 2$\n",
    "\n",
    "    $\\frac{f(1) - f(-1)}{h} = \\frac{2 - 0}{2} = 1$"
   ]
  },
  {
   "cell_type": "markdown",
   "metadata": {},
   "source": [
    "2. $g(x) = x^2 - 2x$\n",
    "\n",
    "    **a.** $[1,3]$\n",
    "\n",
    "    $h = 3 - 1 = 2, g(1) = 1 - 2 = -1, g(3) = 3^2 - 2(3) = 9 - 6 = 3$\n",
    "\n",
    "    $\\frac{f(3) - f(1)}{h} = \\frac{3 + 1}{2} = 2$\n",
    "\n",
    "    **b.** $[-2,4]$\n",
    "\n",
    "    $h = 4 + 2 = 6, g(-2) = 4 - 2 = 2, g(4) = 16 - 2 = 14$\n",
    "\n",
    "    $\\frac{f(4) - f(-2)}{h} = \\frac{14 - 2}{6} = {2}$"
   ]
  },
  {
   "cell_type": "markdown",
   "metadata": {},
   "source": [
    "3. $h(t) = \\cot{t}$\n",
    "\n",
    "    **a.** $[\\pi/4, 3\\pi/4]$\n",
    "    \n",
    "    $\\Delta t = \\frac{3\\pi}{4} - \\frac{\\pi}{4} = \\frac{2\\pi}{4} = \\frac{\\pi}{2}$\n",
    "\n",
    "    $h(\\pi/4) = \\frac{1}{\\tan{(\\pi/4)}} = \\frac{\\cos{(\\pi/4)}}{\\sin{(\\pi/4)}} = \\frac{1}{\\sqrt{2}} \\cdot \\frac{\\sqrt{2}}{1} = 1$\n",
    "    \n",
    "    $h(3\\pi/4) = \\frac{1}{\\tan{(3\\pi/4)}} = \\frac{\\cos{(3\\pi/4)}}{3\\sin{(\\pi/4)}} = -1$\n",
    "\n",
    "    $\\frac{h(3\\pi/4) - h(\\pi/4)}{\\Delta t} = \\frac{-1 - 1}{\\pi/2} = \\frac{-2}{\\pi/2} = \\frac{-2}{1} \\cdot \\frac{2}{\\pi} = -\\frac{4}{\\pi}$\n",
    "\n",
    "    Deriving $\\sin{(\\pi/4)}$ and $\\cos{(\\pi/4)}$\n",
    "\n",
    "    $x = \\sin{(\\pi/4)} = \\cos{(\\pi/4}) = \\frac{1}{\\sqrt{2}}$\n",
    "\n",
    "    $x^2 + x^2 = 1$\n",
    "\n",
    "    $2x^2 = 1$\n",
    "    \n",
    "    $x^2 = \\frac{1}{2}$\n",
    "\n",
    "    $x = \\frac{\\sqrt{1}}{\\sqrt{2}} = \\frac{1}{\\sqrt{2}}$\n",
    "\n",
    "    Deriving $\\sin{(3\\pi/4)}$ and $\\cos{(3\\pi/4)}$\n",
    "\n",
    "    Turn it into degrees to figure out the triangle:\n",
    "    $\\frac{3\\pi}{4} \\cdot \\frac{180^{\\circ}} {\\pi} = \\frac{540^{\\circ}}{4} = 135^{\\circ}$\n",
    "\n",
    "    Hmm, a 45 degree triangle from the y-axis again? Only now the $\\cos{}$ will be negative because it's in the second quadrant.\n",
    "\n",
    "    $\\sin{(3\\pi/4)} = \\frac{1}{\\sqrt{2}}$\n",
    "\n",
    "    $\\cos{(3\\pi/4)} = - \\frac{1}{\\sqrt{2}}$"
   ]
  },
  {
   "cell_type": "markdown",
   "metadata": {},
   "source": [
    "7. Slope of $y = x^2 - 5$ at point $P(2, -1)$\n",
    "\n",
    "    $\\frac{y(2 + h) - y(2)}{h} = \\frac{((2 + h)^2 - 5) - (4 - 5)}{h} = \\frac{((2 + h)^2 - 5) + 1}{h} = \\frac{(2 + h)^2 - 4}{h} = \\frac{4 + 4h + h^2 - 4}{h} = \\frac{4h + h^2}{h} = 4 + h$\n",
    "\n",
    "    So when $h$ approaches $0$ the slope at the point will approach $4$\n"
   ]
  },
  {
   "cell_type": "markdown",
   "metadata": {},
   "source": [
    "9. Slope of $y = x^2 - 2x - 3$ at point $P(2,-3)$\n",
    "\n",
    "    $\\frac{y(2 + h) - y(2)}{h} = \\frac{h^2 + 2h}{h} = h + 2$ Thus when $h$ approaches $0$, the slope approaches $2$.\n",
    "\n",
    "    Getting $y(2 + h)$\n",
    "\n",
    "    $y(2 + h) = (2 + h)^2 - 2(2 + h) - 3 = 4 + 4h + h^2 - 4 - 2h - 3 = h^2 + 2h$ - 3"
   ]
  },
  {
   "cell_type": "markdown",
   "metadata": {},
   "source": []
  }
 ],
 "metadata": {
  "language_info": {
   "name": "python"
  },
  "orig_nbformat": 4
 },
 "nbformat": 4,
 "nbformat_minor": 2
}
