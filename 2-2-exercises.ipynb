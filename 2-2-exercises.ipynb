{
 "cells": [
  {
   "cell_type": "markdown",
   "metadata": {},
   "source": [
    "1.  **a.** $\\lim_{x \\to 1} g(x) = undefined$ $g(x)$ approaches different values from both sides.\n",
    "\n",
    "    **b.** $\\lim_{x \\to 2} g(x) = 1$\n",
    "\n",
    "    **c.** $\\lim_{x \\to 3} g(x) = 0$\n",
    "\n",
    "    **d.** $\\lim_{x \\to 2.5} g(x) = \\frac{1}{2}$\n"
   ]
  },
  {
   "cell_type": "markdown",
   "metadata": {},
   "source": [
    "3.  **a.** True\n",
    "    \n",
    "    **b.** True\n",
    "\n",
    "    **c.** False\n",
    "    \n",
    "    **d.** False\n",
    "    \n",
    "    **e.** False\n",
    "    \n",
    "    **f.** True\n",
    "    \n",
    "    **g.** True"
   ]
  },
  {
   "cell_type": "markdown",
   "metadata": {},
   "source": [
    "5. It approaches $-1$ from one side, and $1$ from the other side."
   ]
  },
  {
   "cell_type": "markdown",
   "metadata": {},
   "source": [
    "6. It approaches $-\\infty$ from one side and $\\infty$ from the other side."
   ]
  },
  {
   "cell_type": "markdown",
   "metadata": {},
   "source": [
    "7. No, it might be a piecewise function, or approach two different values, and thus undefined."
   ]
  },
  {
   "cell_type": "markdown",
   "metadata": {},
   "source": [
    "9. No it doesn't have to be defined, what can be said is that the nearest infinite numbers in both directions from 1, will be the same value."
   ]
  },
  {
   "cell_type": "markdown",
   "metadata": {},
   "source": [
    "11. $\\lim_{x \\to -3} (x^2 - 13) = (-3)^2 - 13 = 9 - 13 = -4$"
   ]
  },
  {
   "cell_type": "markdown",
   "metadata": {},
   "source": [
    "13. $\\lim_{t \\to 6} (t - 5)(t - 7) = (6 - 5)(6 - 7) = (1)(-1) = -1$"
   ]
  },
  {
   "cell_type": "markdown",
   "metadata": {},
   "source": [
    "15. $\\lim_{x \\to 2} \\frac{2x + 5}{11 - x^3} = \\frac{2(2) + 5}{11 - 2^3} = \\frac{9}{3} = 3$"
   ]
  },
  {
   "cell_type": "markdown",
   "metadata": {},
   "source": [
    "17. $\\lim_{x \\to -1/2} 4x(3x + 4)^2 = 4(-1/2)(3[-1/2] + 4)^2 = -2(-\\frac{3}{2} + 4)^2 = -2(\\frac{5}{2})^2 = -2(\\frac{25}{4}) = -\\frac{50}{4}$"
   ]
  },
  {
   "cell_type": "markdown",
   "metadata": {},
   "source": [
    "19. $\\lim_{y \\to -3} (5 - y)^{4/3} = (5 + 3)^{4/3} = (8^{1/3})^4 = (2)^4 = 16$"
   ]
  },
  {
   "cell_type": "markdown",
   "metadata": {},
   "source": [
    "21. $\\lim_{h \\to 0} \\frac{3}{\\sqrt{3h + 1} + 1} = \\frac{3}{2}$"
   ]
  },
  {
   "cell_type": "markdown",
   "metadata": {},
   "source": [
    "23. $\\lim_{x \\to 5} \\frac{x - 5}{x^2 - 25} = \\lim_{x \\to 5}  \\frac{(x - 5)}{(x + 5)(x - 5)} = \\lim_{x \\to 5}  \\frac{1}{x + 5},\\ x \\neq 5 = \\frac{1}{10}$"
   ]
  },
  {
   "cell_type": "markdown",
   "metadata": {},
   "source": [
    "25. $\\lim_{x \\to -5} \\frac{d}{x + 5} = \\lim_{x \\to -5} \\frac{(x - 2)(x + 5)}{x + 5} = \\lim_{x \\to -5} (x - 2),\\ x \\neq -5 = -7$\n",
    "\n",
    "    "
   ]
  },
  {
   "cell_type": "markdown",
   "metadata": {},
   "source": [
    "27. $\\lim_{t \\to 1} \\frac{t^2 + t - 2}{t^2 - 1} = \\lim_{t \\to 1} \\frac{(t+2)(t-1)}{(t + 1)(t - 1)}$\n",
    "    \n",
    "    $(at-b)(at-c) = a^2 t^2 -at(c + b) +cb$\n",
    "\n",
    "    $a = 1,\\ c + b = -1,\\ cb = -2$\n",
    "    \n",
    "    $\\bigg\\{ {{c + b = -1} \\atop{cb = -2}} = \\bigg\\{ {{c = -1 -b} \\atop{cb = -2}}$\n",
    "\n",
    "    And now to solve for $b$:\n",
    "\n",
    "    $(-1 -b)b = -2$\n",
    "\n",
    "    $-b-b^2 = -2$\n",
    "\n",
    "    $b^2 + b = 2$\n",
    "\n",
    "    $b(b + 1) = 2$\n",
    "\n",
    "    $b + 1 = \\frac{2}{b}$\n",
    "\n",
    "    $1 = \\frac{2}{b} - b$\n",
    "\n",
    "    $2 = b - 2b$\n",
    "\n",
    "    $2 = -b$\n",
    "\n",
    "    $b = -2$\n",
    "\n",
    "    And now for $c$:\n",
    "\n",
    "    $cb = -2$\n",
    "\n",
    "    $c(-2) = -2$\n",
    "\n",
    "    $c = 1$"
   ]
  },
  {
   "cell_type": "markdown",
   "metadata": {},
   "source": [
    "29. $\\lim_{x \\to -2} \\frac{-2x - 4}{x^3 + 2x^2} = \\lim_{x \\to -2} \\frac{-2(x + 2)}{x^2(x + 2)} = \\lim_{x \\to -2} \\frac{-2}{x^2},\\ x \\neq -2 = \\frac{-2}{4} = \\frac{-1}{2}$ "
   ]
  },
  {
   "cell_type": "markdown",
   "metadata": {},
   "source": [
    "31. $\\lim_{x \\to 1} \\frac{x^{-1} - 1}{x - 1} = \\lim_{x \\to 1} \\frac{\\big (\\frac{1}{x} - \\frac{1}{1} \\big)}{x - 1} = \\lim_{x \\to 1} \\frac{\\big (\\frac{1}{x} - \\frac{x}{x} \\big)}{x - 1} = \\lim_{x \\to 1} \\frac{\\big (\\frac{1 - x}{x} \\big)}{x - 1} = \\lim_{x \\to 1} -\\frac{1}{x},\\ x \\neq 1 = -1$\n",
    "\n",
    "    $\\frac{1 - x}{x} \\cdot \\frac{1}{x - 1} = \\frac{1 - x}{x^2 - x} = \\frac{-(x - 1)}{x(x - 1)} = -\\frac{1}{x},\\ x \\neq 1$"
   ]
  },
  {
   "cell_type": "markdown",
   "metadata": {},
   "source": [
    "33. $\\lim_{u \\to 1} \\frac{u^4 - 1}{u^3 - 1} = \\lim_{u \\to 1} \\frac{(u - 1)(u + 1)(u^2 + 1)}{(u - 1)(u^2 + u + 1)} = \\lim_{u \\to 1} \\frac{(u + 1)(u^2 + 1)}{(u^2 + u + 1)},\\ u \\neq 1 = \\frac{(1 + 1)(1^2 + 1)}{(1^2 + 1 + 1)} = \\frac{4}{3}$\n",
    "\n",
    "    $u^4 - 1 = (u^2 - 1)(u^2 + 1) = (u - 1)(u + 1)(u^2 + 1)$\n",
    "\n",
    "    $u^3 - 1 = u^3 - 1^3 = (u - 1)(u^2 + u + 1)$"
   ]
  },
  {
   "cell_type": "markdown",
   "metadata": {},
   "source": [
    "35. $\\lim_{x \\to 9} \\frac{\\sqrt{x} - 3}{x - 9} = \\lim_{x \\to 9} \\frac{\\sqrt{x} - 3}{x - 9} \\cdot \\frac{\\sqrt{x} + 3}{\\sqrt{x} + 3} = \\lim_{x \\to 9} \\frac{(x - 9)}{(x - 9)(\\sqrt{x} + 3)} = \\lim_{x \\to 9} \\frac{1}{\\sqrt{x} + 3},\\ x \\neq 9 = \\frac{1}{\\sqrt{9} + 3} = \\frac{1}{6}$\n",
    "\n",
    "    $(\\sqrt{x} - 3)(\\sqrt{x} + 3) = x - 9$"
   ]
  },
  {
   "cell_type": "markdown",
   "metadata": {},
   "source": [
    "37. $\\lim_{x \\to 1}{\\frac{x - 1}{\\sqrt{x + 3} - 2}} = \\lim_{x \\to 1}{\\frac{x - 1}{\\sqrt{x + 3} - 2}} \\cdot \\frac{\\sqrt{x + 3} + 2}{\\sqrt{x + 3} + 2} = \\lim_{x \\to 1} \\frac{(x - 1)(\\sqrt{x + 3} + 2)}{(x - 1)} = \\lim_{x \\to 1} \\sqrt{x + 3} + 2,\\ x \\neq 1 = 4$\n",
    "\n",
    "    $(x - 1)(\\sqrt{x + 3} + 2)$\n",
    "    \n",
    "    $(\\sqrt{x + 3} - 2)(\\sqrt{x + 3} + 2) =  (x - 1)$"
   ]
  },
  {
   "cell_type": "markdown",
   "metadata": {},
   "source": [
    "43. $\\lim_{x \\to 0} (2 \\sin{x} - 1) = 2(0) - 1 = -1$"
   ]
  },
  {
   "cell_type": "markdown",
   "metadata": {},
   "source": [
    "45. $\\lim_{x \\to 0} \\sec{x} = \\frac{1}{\\cos{0}} = 1$"
   ]
  },
  {
   "cell_type": "markdown",
   "metadata": {},
   "source": [
    "47. $\\lim_{x \\to 0} \\frac{x + 1 + \\sin{x}}{3 \\cos{x}} = \\frac{1}{3}$"
   ]
  },
  {
   "cell_type": "markdown",
   "metadata": {},
   "source": [
    "49. $\\lim_{x \\to -\\pi} \\sqrt{x + 4} \\cos{(x + \\pi)} = \\sqrt{4 - \\pi}$"
   ]
  },
  {
   "cell_type": "markdown",
   "metadata": {},
   "source": [
    "51. Quotient Law, Difference Law, Sum Law"
   ]
  },
  {
   "cell_type": "markdown",
   "metadata": {},
   "source": [
    "53. **a.** $\\lim_{x \\to c} f(x)g(x) = (5)(-2) = - 10$\n",
    "\n",
    "    **b.** $\\lim_{x \\to c} 2 f(x)g(x) = 2(-10) = - 20$\n",
    "\n",
    "    **c.** $\\lim_{x \\to c} (f(x) + 3g(x)) = 5 + 3(-2) = 5 - 6 = -1$\n",
    "\n",
    "    **d.** $\\lim_{x \\to c} \\frac{f(x)}{f(x) - g(x)} = \\frac{5}{5 + 2} = \\frac{5}{7}$"
   ]
  },
  {
   "cell_type": "markdown",
   "metadata": {},
   "source": [
    "57. $f(x) = x^2,\\ x = 1$\n",
    "    \n",
    "    $\\left. \\lim_{h \\to 0} \\frac{f(x + h) - f(x)}{h} \\right|_{x = 1} = \\left. \\lim_{h \\to 0} \\frac{x^2 + 2hx + h^2 - x^2}{h} \\right|_{x = 1} = \\left. \\lim_{h \\to 0} \\frac{2hx + h^2}{h}  \\right|_{x = 1} = \\left. \\lim_{h \\to 0} \\frac{h(2x + h)}{h} \\right|_{x = 1} = \\left. \\lim_{h \\to 0} 2x + h,\\ h \\neq 0 \\right|_{x = 1} = 2$"
   ]
  },
  {
   "cell_type": "markdown",
   "metadata": {},
   "source": [
    "61. $f(x) = \\sqrt{x},\\ x = 7$\n",
    "\n",
    "    $\\left. \\lim_{h \\to 0} \\frac{f(x + h) - f(x)}{h} \\right |_{x = 7} = \\left. \\lim_{h \\to 0} \\frac{\\sqrt{x + h} - \\sqrt{x}}{h} \\right |_{x = 7} = \\left. \\frac{1}{\\sqrt{x + h} + \\sqrt{x}},\\ h \\neq 0 \\right |_{x = 7} = \\left. \\frac{1}{2\\sqrt{x}} \\right|_{x = 7} = \\frac{1}{2\\sqrt{7}}$\n",
    "\n",
    "    $\\frac{\\sqrt{x + h} - \\sqrt{x}}{h} \\cdot \\frac{\\sqrt{x + h} + \\sqrt{x})}{\\sqrt{x + h} + \\sqrt{x}} = \\frac{h}{h(\\sqrt{x + h} + \\sqrt{x})} \\frac{1}{\\sqrt{x + h} + \\sqrt{x}},\\ h \\neq 0$\n",
    "\n",
    "    $(\\sqrt{x + h} - \\sqrt{x})(\\sqrt{x + h} + \\sqrt{x}) = (x + h) - x = h$"
   ]
  },
  {
   "cell_type": "markdown",
   "metadata": {},
   "source": [
    "63. $\\sqrt{5}$"
   ]
  },
  {
   "cell_type": "markdown",
   "metadata": {},
   "source": [
    "65. $1$ Both sides approach $1$ when approaching $0$"
   ]
  },
  {
   "cell_type": "markdown",
   "metadata": {},
   "source": [
    "79. $\\lim_{x \\to 4} \\frac{f(x) - 5}{x - 2} = \\frac{\\lim_{x \\to 4} f(x) - \\lim_{x \\to 4} 5}{\\lim_{x \\to 4} x - \\lim_{x \\to 4} 2} = \\frac{\\lim_{x \\to 4} f(x) - 5}{2} = 1$\n",
    "\n",
    "    $\\frac{\\lim_{x \\to 4} f(x) - 5}{2} = 1$\n",
    "\n",
    "    $\\lim_{x \\to 4} f(x) - 5 = 2$\n",
    "\n",
    "    $\\lim_{x \\to 4} f(x) = 7$"
   ]
  },
  {
   "cell_type": "markdown",
   "metadata": {},
   "source": [
    "85. $32$"
   ]
  },
  {
   "cell_type": "markdown",
   "metadata": {},
   "source": []
  }
 ],
 "metadata": {
  "language_info": {
   "name": "python"
  },
  "orig_nbformat": 4
 },
 "nbformat": 4,
 "nbformat_minor": 2
}
